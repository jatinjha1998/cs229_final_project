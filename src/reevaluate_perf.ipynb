{
 "cells": [
  {
   "cell_type": "code",
   "execution_count": 30,
   "metadata": {
    "collapsed": true
   },
   "outputs": [],
   "source": [
    "import os\n",
    "from os.path import join\n",
    "import glob\n",
    "import pickle\n",
    "import numpy as np\n",
    "import pandas as pd\n",
    "import matplotlib\n",
    "import matplotlib.pyplot as plt\n",
    "%matplotlib inline"
   ]
  },
  {
   "cell_type": "code",
   "execution_count": 31,
   "metadata": {
    "collapsed": false
   },
   "outputs": [],
   "source": [
    "import trading as trd"
   ]
  },
  {
   "cell_type": "code",
   "execution_count": 32,
   "metadata": {
    "collapsed": false
   },
   "outputs": [
    {
     "data": {
      "text/plain": [
       "<module 'trading' from 'C:\\\\Users\\\\hamza\\\\Documents\\\\code\\\\python\\\\cs229\\\\src\\\\trading\\\\__init__.py'>"
      ]
     },
     "execution_count": 32,
     "metadata": {},
     "output_type": "execute_result"
    }
   ],
   "source": [
    "# relaod module after modifying it\n",
    "import importlib\n",
    "importlib.reload(trd.stock_history)\n",
    "importlib.reload(trd.portfolio)\n",
    "importlib.reload(trd.benchmarks)\n",
    "importlib.reload(trd.rl)\n",
    "importlib.reload(trd.nn)\n",
    "importlib.reload(trd)"
   ]
  },
  {
   "cell_type": "markdown",
   "metadata": {},
   "source": [
    "Recompute all the perfomance metrics becaue of an off-by-one error\n",
    "\n",
    "Evaluating model performance puts a zero in the last entry of a portfolio, resulting in a massive losss"
   ]
  },
  {
   "cell_type": "code",
   "execution_count": 33,
   "metadata": {
    "collapsed": false
   },
   "outputs": [],
   "source": [
    "model_folders = glob.glob(trd.MODEL_LOC + '\\\\*')"
   ]
  },
  {
   "cell_type": "code",
   "execution_count": 36,
   "metadata": {
    "collapsed": false
   },
   "outputs": [],
   "source": [
    "for model_folder in model_folders:\n",
    "    q_perf = []\n",
    "    nothing_perf = []\n",
    "    rebal_perf = []\n",
    "\n",
    "    with open(join(model_folder, 'test.csv')) as file:\n",
    "        for line in file:\n",
    "            (L, H) = line.strip().split(',')\n",
    "            port_name = '{:s}_{:s}'.format(L, H)\n",
    "\n",
    "            rebal = pd.read_csv(join(model_folder, trd.REBAL_DIR, port_name + '.csv'), index_col=0)\n",
    "            nothing = pd.read_csv(join(model_folder, trd.NOTHING_DIR, port_name + '.csv'), index_col=0)\n",
    "            q = pd.read_csv(join(model_folder, trd.Q_PORT_DIR, port_name + '.csv'), index_col=0)\n",
    "            q = q.dropna()\n",
    "            # theres a weird edge case with the last value of the q ports not being calculated\n",
    "            q = q[:-1]\n",
    "            \n",
    "            q_perf.append(trd.portfolio_metrics(q, trd.sharpe_ratio_reward))\n",
    "            nothing_perf.append(trd.portfolio_metrics(nothing, trd.sharpe_ratio_reward))\n",
    "            rebal_perf.append(trd.portfolio_metrics(rebal, trd.sharpe_ratio_reward))\n",
    "\n",
    "        q_perf = np.mean(np.asarray(q_perf), axis=0)\n",
    "        nothing_perf = np.mean(np.asarray(nothing_perf), axis=0)\n",
    "        rebal_perf = np.mean(np.asarray(rebal_perf), axis=0)\n",
    "\n",
    "        np.savetxt(join(model_folder, 'nothing_perf.csv'), nothing_perf)\n",
    "        np.savetxt(join(model_folder, 'rebal_perf.csv'), rebal_perf)\n",
    "        np.savetxt(join(model_folder, 'q_perf.csv'), q_perf)\n",
    "    \n",
    "    print(model_folder)"
   ]
  }
 ],
 "metadata": {
  "kernelspec": {
   "display_name": "Python [default]",
   "language": "python",
   "name": "python3"
  },
  "language_info": {
   "codemirror_mode": {
    "name": "ipython",
    "version": 3
   },
   "file_extension": ".py",
   "mimetype": "text/x-python",
   "name": "python",
   "nbconvert_exporter": "python",
   "pygments_lexer": "ipython3",
   "version": "3.5.2"
  }
 },
 "nbformat": 4,
 "nbformat_minor": 1
}
