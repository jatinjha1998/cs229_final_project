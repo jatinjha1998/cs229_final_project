{
 "cells": [
  {
   "cell_type": "code",
   "execution_count": 3,
   "metadata": {
    "collapsed": true
   },
   "outputs": [],
   "source": [
    "import numpy as np\n",
    "import pandas as pd\n",
    "import matplotlib.pyplot as plt\n",
    "%matplotlib inline"
   ]
  },
  {
   "cell_type": "code",
   "execution_count": 4,
   "metadata": {
    "collapsed": false
   },
   "outputs": [],
   "source": [
    "from keras.models import Sequential\n",
    "from keras.layers import Dense, Activation\n",
    "from keras.optimizers import SGD"
   ]
  },
  {
   "cell_type": "code",
   "execution_count": 5,
   "metadata": {
    "collapsed": false
   },
   "outputs": [],
   "source": [
    "#from keras.utils.visualize_util import plot"
   ]
  },
  {
   "cell_type": "code",
   "execution_count": 6,
   "metadata": {
    "collapsed": false
   },
   "outputs": [],
   "source": [
    "m = int(1E3);\n",
    "n = int(10);\n",
    "k = int(3);\n",
    "\n",
    "data = np.random.rand(m, n)\n",
    "#y = np.round(np.abs((k-1) * np.cos(np.sum(data, 1))))\n",
    "y = np.random.randint(0, 16, (m, k))"
   ]
  },
  {
   "cell_type": "code",
   "execution_count": 7,
   "metadata": {
    "collapsed": false
   },
   "outputs": [],
   "source": [
    "model = Sequential([\n",
    "    Dense(output_dim=64, input_dim=n, init='uniform'),\n",
    "    Activation(\"relu\"),\n",
    "    Dense(output_dim=k)]) #Activation(\"softmax\")"
   ]
  },
  {
   "cell_type": "code",
   "execution_count": 8,
   "metadata": {
    "collapsed": false
   },
   "outputs": [],
   "source": [
    "# momentum in [0.5, 0.9, 0.95, 0.99]\n",
    "sgd = SGD(lr=0.01, decay=1e-6, momentum=0.5, nesterov=True)\n",
    "model.compile(loss='mean_squared_error', optimizer=sgd, metrics=['accuracy'])"
   ]
  },
  {
   "cell_type": "code",
   "execution_count": 9,
   "metadata": {
    "collapsed": false
   },
   "outputs": [
    {
     "name": "stdout",
     "output_type": "stream",
     "text": [
      "Epoch 1/10\n",
      "1000/1000 [==============================] - 0s - loss: 31.0667 - acc: 0.3550     \n",
      "Epoch 2/10\n",
      "1000/1000 [==============================] - 0s - loss: 22.0609 - acc: 0.3470     \n",
      "Epoch 3/10\n",
      "1000/1000 [==============================] - 0s - loss: 22.2079 - acc: 0.3350     \n",
      "Epoch 4/10\n",
      "1000/1000 [==============================] - 0s - loss: 21.9613 - acc: 0.3360     \n",
      "Epoch 5/10\n",
      "1000/1000 [==============================] - 0s - loss: 21.9638 - acc: 0.3250     \n",
      "Epoch 6/10\n",
      "1000/1000 [==============================] - 0s - loss: 21.8397 - acc: 0.3230     \n",
      "Epoch 7/10\n",
      "1000/1000 [==============================] - 0s - loss: 21.7023 - acc: 0.3810     \n",
      "Epoch 8/10\n",
      "1000/1000 [==============================] - 0s - loss: 21.6407 - acc: 0.3670     \n",
      "Epoch 9/10\n",
      "1000/1000 [==============================] - 0s - loss: 21.6806 - acc: 0.3440     \n",
      "Epoch 10/10\n",
      "1000/1000 [==============================] - 0s - loss: 21.6966 - acc: 0.3340     \n"
     ]
    },
    {
     "data": {
      "text/plain": [
       "<keras.callbacks.History at 0x1accc583c18>"
      ]
     },
     "execution_count": 9,
     "metadata": {},
     "output_type": "execute_result"
    }
   ],
   "source": [
    "model.fit(data, y, nb_epoch=10, batch_size=32)"
   ]
  },
  {
   "cell_type": "code",
   "execution_count": 12,
   "metadata": {
    "collapsed": false
   },
   "outputs": [
    {
     "data": {
      "text/plain": [
       "array([[ 7.62245607,  7.38628244,  7.45234728],\n",
       "       [ 8.50828552,  8.19099331,  8.26092625]], dtype=float32)"
      ]
     },
     "execution_count": 12,
     "metadata": {},
     "output_type": "execute_result"
    }
   ],
   "source": [
    "model.predict(np.random.rand(2, n))"
   ]
  }
 ],
 "metadata": {
  "anaconda-cloud": {},
  "kernelspec": {
   "display_name": "Python [default]",
   "language": "python",
   "name": "python3"
  },
  "language_info": {
   "codemirror_mode": {
    "name": "ipython",
    "version": 3
   },
   "file_extension": ".py",
   "mimetype": "text/x-python",
   "name": "python",
   "nbconvert_exporter": "python",
   "pygments_lexer": "ipython3",
   "version": "3.5.2"
  }
 },
 "nbformat": 4,
 "nbformat_minor": 1
}
