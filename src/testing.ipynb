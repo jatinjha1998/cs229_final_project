{
 "cells": [
  {
   "cell_type": "code",
   "execution_count": 1,
   "metadata": {
    "collapsed": false
   },
   "outputs": [
    {
     "name": "stderr",
     "output_type": "stream",
     "text": [
      "Using Theano backend.\n"
     ]
    }
   ],
   "source": [
    "import trading as trd"
   ]
  },
  {
   "cell_type": "code",
   "execution_count": 2,
   "metadata": {
    "collapsed": false
   },
   "outputs": [
    {
     "data": {
      "text/plain": [
       "<module 'trading' from 'C:\\\\Users\\\\hamza\\\\Documents\\\\school\\\\cs_229\\\\cs229_final_project\\\\src\\\\trading\\\\__init__.py'>"
      ]
     },
     "execution_count": 2,
     "metadata": {},
     "output_type": "execute_result"
    }
   ],
   "source": [
    "# relaod module after modifying it\n",
    "import importlib\n",
    "importlib.reload(trd.stock_history)\n",
    "importlib.reload(trd.nn)\n",
    "importlib.reload(trd.testing)\n",
    "importlib.reload(trd)"
   ]
  },
  {
   "cell_type": "markdown",
   "metadata": {},
   "source": [
    "## Portfolio Setup"
   ]
  },
  {
   "cell_type": "code",
   "execution_count": 3,
   "metadata": {
    "collapsed": true
   },
   "outputs": [],
   "source": [
    "# rebalance frequency\n",
    "rebalance_period = 30"
   ]
  },
  {
   "cell_type": "code",
   "execution_count": 4,
   "metadata": {
    "collapsed": true
   },
   "outputs": [],
   "source": [
    "model_dirs = ['2days_pen_return_l=0_5_100h', '2days_pen_return_l=0_100h',\n",
    "              '2days_sharpe_reward_100h', '7days_pen_return_l=0_5_100h',\n",
    "              '7days_pen_return_l=0_100h', '7days_sharpe_reward_100h']"
   ]
  },
  {
   "cell_type": "code",
   "execution_count": 5,
   "metadata": {
    "collapsed": false
   },
   "outputs": [
    {
     "name": "stdout",
     "output_type": "stream",
     "text": [
      "running model 2days_pen_return_l=0_5_100h (1 of 6)\n",
      "running model 2days_pen_return_l=0_100h (2 of 6)\n",
      "running model 2days_sharpe_reward_100h (3 of 6)\n",
      "running model 7days_pen_return_l=0_5_100h (4 of 6)\n",
      "running model 7days_pen_return_l=0_100h (5 of 6)\n",
      "running model 7days_sharpe_reward_100h (6 of 6)\n"
     ]
    }
   ],
   "source": [
    "trd.test_models(model_dirs)"
   ]
  }
 ],
 "metadata": {
  "kernelspec": {
   "display_name": "Python [default]",
   "language": "python",
   "name": "python3"
  },
  "language_info": {
   "codemirror_mode": {
    "name": "ipython",
    "version": 3
   },
   "file_extension": ".py",
   "mimetype": "text/x-python",
   "name": "python",
   "nbconvert_exporter": "python",
   "pygments_lexer": "ipython3",
   "version": "3.5.2"
  }
 },
 "nbformat": 4,
 "nbformat_minor": 1
}
