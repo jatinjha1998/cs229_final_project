{
 "cells": [
  {
   "cell_type": "code",
   "execution_count": 1,
   "metadata": {
    "collapsed": true
   },
   "outputs": [],
   "source": [
    "import os\n",
    "from os.path import join\n",
    "import glob\n",
    "import pickle\n",
    "import numpy as np\n",
    "import pandas as pd\n",
    "import matplotlib\n",
    "import matplotlib.pyplot as plt\n",
    "\n",
    "%matplotlib inline"
   ]
  },
  {
   "cell_type": "code",
   "execution_count": 2,
   "metadata": {
    "collapsed": false
   },
   "outputs": [
    {
     "name": "stderr",
     "output_type": "stream",
     "text": [
      "Using Theano backend.\n"
     ]
    }
   ],
   "source": [
    "import trading as trd"
   ]
  },
  {
   "cell_type": "code",
   "execution_count": 3,
   "metadata": {
    "collapsed": true
   },
   "outputs": [],
   "source": [
    "model_folders = glob.glob(trd.MODEL_LOC + '\\\\*')"
   ]
  },
  {
   "cell_type": "raw",
   "metadata": {},
   "source": [
    "model_folders = ['30days_pen_return_l=0',\n",
    "                 '30days_pen_return_l=0_5',\n",
    "                 '30days_sharpe_reward']\n",
    "\n",
    "model_folders = [join(trd.MODEL_LOC, s) for s in model_folders]"
   ]
  },
  {
   "cell_type": "markdown",
   "metadata": {},
   "source": [
    "perf_all"
   ]
  },
  {
   "cell_type": "code",
   "execution_count": 4,
   "metadata": {
    "collapsed": false
   },
   "outputs": [],
   "source": [
    "model_names = []\n",
    "\n",
    "perf_q = []\n",
    "perf_rebal = []\n",
    "perf_nothing = []\n",
    "\n",
    "for m_dir in model_folders:\n",
    "    mdl_name = os.path.basename(m_dir)\n",
    "    model_names.append(mdl_name)\n",
    "\n",
    "    perf_q.append(np.loadtxt(join(m_dir, 'q_perf.csv'))) \n",
    "    perf_rebal.append(np.loadtxt(join(m_dir, 'rebal_perf.csv'))) \n",
    "    perf_nothing.append(np.loadtxt(join(m_dir, 'nothing_perf.csv'))) \n",
    "    \n",
    "\n",
    "perf_q = np.array(perf_q)\n",
    "perf_rebal = np.array(perf_rebal)\n",
    "perf_rebal = perf_rebal.mean(axis=0)\n",
    "perf_nothing = np.array(perf_nothing)\n",
    "perf_nothing = perf_nothing.mean(axis=0)\n",
    "\n",
    "model_names.extend([\"rebalance\", \"do nothing\"])\n",
    "perf_all = np.vstack((perf_q, perf_rebal, perf_nothing))\n",
    "# drop the reward (last) colum\n",
    "perf_all = perf_all[:, 0:3]"
   ]
  },
  {
   "cell_type": "code",
   "execution_count": 5,
   "metadata": {
    "collapsed": false
   },
   "outputs": [
    {
     "data": {
      "text/html": [
       "<div>\n",
       "<table border=\"1\" class=\"dataframe\">\n",
       "  <thead>\n",
       "    <tr style=\"text-align: right;\">\n",
       "      <th></th>\n",
       "      <th>sharpe_ratio</th>\n",
       "      <th>avg_return</th>\n",
       "      <th>std_return</th>\n",
       "    </tr>\n",
       "  </thead>\n",
       "  <tbody>\n",
       "    <tr>\n",
       "      <th>2days_pen_return_l=0</th>\n",
       "      <td>-0.006789</td>\n",
       "      <td>-274.230614</td>\n",
       "      <td>46229.252526</td>\n",
       "    </tr>\n",
       "    <tr>\n",
       "      <th>2days_pen_return_l=0_5</th>\n",
       "      <td>-0.006887</td>\n",
       "      <td>-274.230614</td>\n",
       "      <td>45472.290264</td>\n",
       "    </tr>\n",
       "    <tr>\n",
       "      <th>2days_sharpe_reward</th>\n",
       "      <td>-0.006789</td>\n",
       "      <td>-274.230614</td>\n",
       "      <td>46229.252526</td>\n",
       "    </tr>\n",
       "    <tr>\n",
       "      <th>30days_pen_return_l=0</th>\n",
       "      <td>-0.006214</td>\n",
       "      <td>-276.319854</td>\n",
       "      <td>59330.344216</td>\n",
       "    </tr>\n",
       "    <tr>\n",
       "      <th>30days_pen_return_l=0_5</th>\n",
       "      <td>-0.006146</td>\n",
       "      <td>-276.319854</td>\n",
       "      <td>64399.235279</td>\n",
       "    </tr>\n",
       "    <tr>\n",
       "      <th>30days_sharpe_reward</th>\n",
       "      <td>-0.005658</td>\n",
       "      <td>-276.319854</td>\n",
       "      <td>67036.591700</td>\n",
       "    </tr>\n",
       "    <tr>\n",
       "      <th>7days_pen_return_l=0</th>\n",
       "      <td>-0.005117</td>\n",
       "      <td>-274.606049</td>\n",
       "      <td>150175.598018</td>\n",
       "    </tr>\n",
       "    <tr>\n",
       "      <th>7days_pen_return_l=0_5</th>\n",
       "      <td>-0.006814</td>\n",
       "      <td>-274.606049</td>\n",
       "      <td>46253.487448</td>\n",
       "    </tr>\n",
       "    <tr>\n",
       "      <th>7days_sharpe_reward</th>\n",
       "      <td>-0.005103</td>\n",
       "      <td>-274.606049</td>\n",
       "      <td>150367.096073</td>\n",
       "    </tr>\n",
       "    <tr>\n",
       "      <th>rebalance</th>\n",
       "      <td>0.014386</td>\n",
       "      <td>816.995113</td>\n",
       "      <td>44559.715279</td>\n",
       "    </tr>\n",
       "    <tr>\n",
       "      <th>do nothing</th>\n",
       "      <td>0.009000</td>\n",
       "      <td>653.502471</td>\n",
       "      <td>53175.018472</td>\n",
       "    </tr>\n",
       "  </tbody>\n",
       "</table>\n",
       "</div>"
      ],
      "text/plain": [
       "                         sharpe_ratio  avg_return     std_return\n",
       "2days_pen_return_l=0        -0.006789 -274.230614   46229.252526\n",
       "2days_pen_return_l=0_5      -0.006887 -274.230614   45472.290264\n",
       "2days_sharpe_reward         -0.006789 -274.230614   46229.252526\n",
       "30days_pen_return_l=0       -0.006214 -276.319854   59330.344216\n",
       "30days_pen_return_l=0_5     -0.006146 -276.319854   64399.235279\n",
       "30days_sharpe_reward        -0.005658 -276.319854   67036.591700\n",
       "7days_pen_return_l=0        -0.005117 -274.606049  150175.598018\n",
       "7days_pen_return_l=0_5      -0.006814 -274.606049   46253.487448\n",
       "7days_sharpe_reward         -0.005103 -274.606049  150367.096073\n",
       "rebalance                    0.014386  816.995113   44559.715279\n",
       "do nothing                   0.009000  653.502471   53175.018472"
      ]
     },
     "execution_count": 5,
     "metadata": {},
     "output_type": "execute_result"
    }
   ],
   "source": [
    "pd.DataFrame(perf_all, index=model_names,\n",
    "             columns=[\"sharpe_ratio\", \"avg_return\", \"std_return\"])             "
   ]
  },
  {
   "cell_type": "markdown",
   "metadata": {},
   "source": [
    "Cherry pick the plots to show, and make them pretty"
   ]
  },
  {
   "cell_type": "code",
   "execution_count": 6,
   "metadata": {
    "collapsed": true
   },
   "outputs": [],
   "source": [
    "plots_to_gen = [(\"2days_pen_return_l=0\", \"AVA_FCX\"),\n",
    "                (\"2days_pen_return_l=0\", \"BMY_HES\"),\n",
    "                (\"7days_sharpe_reward\", \"CPB_WDC\"), \n",
    "                (\"7days_sharpe_reward\", \"DGX_MS\")]"
   ]
  },
  {
   "cell_type": "code",
   "execution_count": 7,
   "metadata": {
    "collapsed": true
   },
   "outputs": [],
   "source": [
    "def cust_plt(ax, data, label='', **kwargs):\n",
    "    ax.plot_date(data.index, data, ls='solid', marker='', label=label, **kwargs)\n",
    "    \n",
    "lbl_str = '{:s} ({:.5f})'"
   ]
  },
  {
   "cell_type": "code",
   "execution_count": 8,
   "metadata": {
    "collapsed": false
   },
   "outputs": [],
   "source": [
    "for (mdl, port) in plots_to_gen:\n",
    "    nothing = pd.read_csv(join(trd.MODEL_LOC, mdl, trd.NOTHING_DIR, port + \".csv\"), index_col=0)\n",
    "    rebal = pd.read_csv(join(trd.MODEL_LOC, mdl, trd.REBAL_DIR, port + \".csv\"), index_col=0)\n",
    "    q = pd.read_csv(join(trd.MODEL_LOC, mdl, trd.Q_PORT_DIR, port + \".csv\"), index_col=0)\n",
    "\n",
    "    f = plt.figure(figsize=(10,6))\n",
    "    ax1 = f.gca()\n",
    "\n",
    "    cust_plt(ax1, nothing.total, 'Do Nothing')\n",
    "    cust_plt(ax1, rebal.total,'Rebalance 30')\n",
    "    cust_plt(ax1, q.total, 'Q Learning')\n",
    "\n",
    "    ax1.axhline(y=1E6, color='black')\n",
    "    ax1.legend(bbox_to_anchor=(0, 1), loc='upper left', ncol=1)\n",
    "    ax1.set_ylim(bottom=0)\n",
    "    plt.xticks(rotation=40)\n",
    "    ax1.set_title('{:s}: {:s} & {:s}'.format(mdl, *port.split('_')))\n",
    "\n",
    "    f.savefig('{:s}_{:s}'.format(mdl, port))\n",
    "    plt.close(f)"
   ]
  }
 ],
 "metadata": {
  "anaconda-cloud": {},
  "kernelspec": {
   "display_name": "Python [default]",
   "language": "python",
   "name": "python3"
  },
  "language_info": {
   "codemirror_mode": {
    "name": "ipython",
    "version": 3
   },
   "file_extension": ".py",
   "mimetype": "text/x-python",
   "name": "python",
   "nbconvert_exporter": "python",
   "pygments_lexer": "ipython3",
   "version": "3.5.2"
  }
 },
 "nbformat": 4,
 "nbformat_minor": 1
}
