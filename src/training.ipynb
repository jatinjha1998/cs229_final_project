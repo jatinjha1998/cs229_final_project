{
 "cells": [
  {
   "cell_type": "code",
   "execution_count": 1,
   "metadata": {
    "collapsed": false
   },
   "outputs": [],
   "source": [
    "import glob\n",
    "import itertools\n",
    "from os.path import join, splitext, basename\n",
    "import numpy as np\n",
    "import pandas as pd\n",
    "import matplotlib.pyplot as plt\n",
    "import sklearn as sk\n",
    "from sklearn.model_selection import train_test_split\n",
    "%matplotlib inline"
   ]
  },
  {
   "cell_type": "code",
   "execution_count": 2,
   "metadata": {
    "collapsed": false
   },
   "outputs": [
    {
     "name": "stderr",
     "output_type": "stream",
     "text": [
      "Using Theano backend.\n"
     ]
    }
   ],
   "source": [
    "from keras.models import Sequential\n",
    "from keras.layers import Dense, Activation\n",
    "from keras.optimizers import SGD"
   ]
  },
  {
   "cell_type": "code",
   "execution_count": 3,
   "metadata": {
    "collapsed": true
   },
   "outputs": [],
   "source": [
    "import trading as trd"
   ]
  },
  {
   "cell_type": "code",
   "execution_count": 28,
   "metadata": {
    "collapsed": false
   },
   "outputs": [
    {
     "data": {
      "text/plain": [
       "<module 'trading' from 'C:\\\\Users\\\\hamza\\\\Documents\\\\school\\\\cs_229\\\\cs229_final_project\\\\src\\\\trading\\\\__init__.py'>"
      ]
     },
     "execution_count": 28,
     "metadata": {},
     "output_type": "execute_result"
    }
   ],
   "source": [
    "# relaod module after modifying it\n",
    "import importlib\n",
    "importlib.reload(trd.portfolio)\n",
    "importlib.reload(trd.benchmarks)\n",
    "importlib.reload(trd)"
   ]
  },
  {
   "cell_type": "markdown",
   "metadata": {},
   "source": [
    "## Load Data"
   ]
  },
  {
   "cell_type": "code",
   "execution_count": 4,
   "metadata": {
    "collapsed": false
   },
   "outputs": [],
   "source": [
    "STOCK_DATA_LOC = join('..', 'data', 'stocks')\n",
    "HI_BETA_DIR = join(STOCK_DATA_LOC, 'high_beta')\n",
    "LO_BETA_DIR = join(STOCK_DATA_LOC, 'low_beta')\n",
    "\n",
    "# all the csv's stored in the respective folders\n",
    "lo_beta_files = glob.glob(join(LO_BETA_DIR, '*.csv'))\n",
    "hi_beta_files = glob.glob(join(HI_BETA_DIR, '*.csv'))"
   ]
  },
  {
   "cell_type": "code",
   "execution_count": 5,
   "metadata": {
    "collapsed": true
   },
   "outputs": [],
   "source": [
    "class StockPair:\n",
    "    def __init__(self, lo, hi, hist_lo, hist_hi):\n",
    "        # stock ticker symbols (strings)\n",
    "        self.lo = hi\n",
    "        self.hi = lo\n",
    "        # stock history (pandas data arrays)\n",
    "        self.hist_lo = hist_lo\n",
    "        self.hist_hi = hist_hi"
   ]
  },
  {
   "cell_type": "code",
   "execution_count": 6,
   "metadata": {
    "collapsed": false
   },
   "outputs": [],
   "source": [
    "# generate all possible combinations of low- and high-beta stocks\n",
    "stock_pairs = []\n",
    "\n",
    "for pair in itertools.product(lo_beta_files, hi_beta_files):\n",
    "    # the stock ticker names\n",
    "    L, H =  map(lambda f: splitext(basename(f))[0], pair)\n",
    "    # the actual histories\n",
    "    hist_l, hist_h = map(lambda f: trd.read_stock_history(f), pair)\n",
    "    stock_pairs.append(StockPair(L, H, hist_l, hist_h))\n",
    "\n",
    "train, test = train_test_split(stock_pairs, test_size=5)"
   ]
  },
  {
   "cell_type": "markdown",
   "metadata": {},
   "source": [
    "## Formulate Problem"
   ]
  },
  {
   "cell_type": "code",
   "execution_count": 12,
   "metadata": {
    "collapsed": false
   },
   "outputs": [],
   "source": [
    "Price = np.float64\n",
    "Shares = np.uint\n",
    "\n",
    "Action = np.float64\n",
    "# percent to sell off of the lo-beta stock and buy of hi-beta\n",
    "actions = np.array([-0.5, -0.3, -0.1, 0, 0.1, 0.3, 0.5])\n",
    "k = actions.size"
   ]
  },
  {
   "cell_type": "code",
   "execution_count": 6,
   "metadata": {
    "collapsed": false
   },
   "outputs": [],
   "source": [
    "m = int(1E3);\n",
    "n = int(10);\n",
    "k = int(3);\n",
    "\n",
    "data = np.random.randa(m, n)\n",
    "#y = np.round(np.abs((k-1) * np.cos(np.sum(data, 1))))\n",
    "y = np.random.randint(0, 16, (m, k))"
   ]
  },
  {
   "cell_type": "code",
   "execution_count": 7,
   "metadata": {
    "collapsed": false
   },
   "outputs": [],
   "source": [
    "model = Sequential([\n",
    "    Dense(output_dim=64, input_dim=n, init='uniform'),\n",
    "    Activation(\"relu\"),\n",
    "    Dense(output_dim=k)]) #Activation(\"softmax\")"
   ]
  },
  {
   "cell_type": "code",
   "execution_count": 8,
   "metadata": {
    "collapsed": false
   },
   "outputs": [],
   "source": [
    "# momentum in [0.5, 0.9, 0.95, 0.99]\n",
    "sgd = SGD(lr=0.01, decay=1e-6, momentum=0.5, nesterov=True)\n",
    "model.compile(loss='mean_squared_error', optimizer=sgd, metrics=['accuracy'])"
   ]
  },
  {
   "cell_type": "code",
   "execution_count": 9,
   "metadata": {
    "collapsed": false
   },
   "outputs": [
    {
     "name": "stdout",
     "output_type": "stream",
     "text": [
      "Epoch 1/10\n",
      "1000/1000 [==============================] - 0s - loss: 31.0667 - acc: 0.3550     \n",
      "Epoch 2/10\n",
      "1000/1000 [==============================] - 0s - loss: 22.0609 - acc: 0.3470     \n",
      "Epoch 3/10\n",
      "1000/1000 [==============================] - 0s - loss: 22.2079 - acc: 0.3350     \n",
      "Epoch 4/10\n",
      "1000/1000 [==============================] - 0s - loss: 21.9613 - acc: 0.3360     \n",
      "Epoch 5/10\n",
      "1000/1000 [==============================] - 0s - loss: 21.9638 - acc: 0.3250     \n",
      "Epoch 6/10\n",
      "1000/1000 [==============================] - 0s - loss: 21.8397 - acc: 0.3230     \n",
      "Epoch 7/10\n",
      "1000/1000 [==============================] - 0s - loss: 21.7023 - acc: 0.3810     \n",
      "Epoch 8/10\n",
      "1000/1000 [==============================] - 0s - loss: 21.6407 - acc: 0.3670     \n",
      "Epoch 9/10\n",
      "1000/1000 [==============================] - 0s - loss: 21.6806 - acc: 0.3440     \n",
      "Epoch 10/10\n",
      "1000/1000 [==============================] - 0s - loss: 21.6966 - acc: 0.3340     \n"
     ]
    },
    {
     "data": {
      "text/plain": [
       "<keras.callbacks.History at 0x1accc583c18>"
      ]
     },
     "execution_count": 9,
     "metadata": {},
     "output_type": "execute_result"
    }
   ],
   "source": [
    "model.fit(data, y, nb_epoch=10, batch_size=32)"
   ]
  },
  {
   "cell_type": "code",
   "execution_count": 12,
   "metadata": {
    "collapsed": false
   },
   "outputs": [
    {
     "data": {
      "text/plain": [
       "array([[ 7.62245607,  7.38628244,  7.45234728],\n",
       "       [ 8.50828552,  8.19099331,  8.26092625]], dtype=float32)"
      ]
     },
     "execution_count": 12,
     "metadata": {},
     "output_type": "execute_result"
    }
   ],
   "source": [
    "model.predict(np.random.rand(2, n))"
   ]
  }
 ],
 "metadata": {
  "anaconda-cloud": {},
  "kernelspec": {
   "display_name": "Python [default]",
   "language": "python",
   "name": "python3"
  },
  "language_info": {
   "codemirror_mode": {
    "name": "ipython",
    "version": 3
   },
   "file_extension": ".py",
   "mimetype": "text/x-python",
   "name": "python",
   "nbconvert_exporter": "python",
   "pygments_lexer": "ipython3",
   "version": "3.5.2"
  }
 },
 "nbformat": 4,
 "nbformat_minor": 1
}
