{
 "cells": [
  {
   "cell_type": "code",
   "execution_count": 1,
   "metadata": {
    "collapsed": false
   },
   "outputs": [],
   "source": [
    "import os\n",
    "from os.path import join\n",
    "import pickle\n",
    "import numpy as np\n",
    "import pandas as pd\n",
    "import matplotlib\n",
    "import matplotlib.pyplot as plt"
   ]
  },
  {
   "cell_type": "code",
   "execution_count": 2,
   "metadata": {
    "collapsed": true
   },
   "outputs": [],
   "source": [
    "import pdb #pdb.pm()"
   ]
  },
  {
   "cell_type": "code",
   "execution_count": 3,
   "metadata": {
    "collapsed": false
   },
   "outputs": [
    {
     "name": "stderr",
     "output_type": "stream",
     "text": [
      "Using Theano backend.\n"
     ]
    }
   ],
   "source": [
    "import trading as trd"
   ]
  },
  {
   "cell_type": "code",
   "execution_count": 4,
   "metadata": {
    "collapsed": false
   },
   "outputs": [
    {
     "data": {
      "text/plain": [
       "<module 'trading' from 'C:\\\\Users\\\\hamza\\\\Documents\\\\code\\\\python\\\\cs229\\\\src\\\\trading\\\\__init__.py'>"
      ]
     },
     "execution_count": 4,
     "metadata": {},
     "output_type": "execute_result"
    }
   ],
   "source": [
    "# relaod module after modifying it\n",
    "import importlib\n",
    "importlib.reload(trd.stock_history)\n",
    "importlib.reload(trd.portfolio)\n",
    "importlib.reload(trd.benchmarks)\n",
    "importlib.reload(trd.rl)\n",
    "importlib.reload(trd.nn)\n",
    "importlib.reload(trd)"
   ]
  },
  {
   "cell_type": "markdown",
   "metadata": {},
   "source": [
    "## The Problem"
   ]
  },
  {
   "cell_type": "code",
   "execution_count": 5,
   "metadata": {
    "collapsed": false
   },
   "outputs": [],
   "source": [
    "# percent to have in training data\n",
    "train_size = 0.8\n",
    "\n",
    "state_init = {\n",
    "    # starting cash\n",
    "    'cash': 1e6, \n",
    "    # starting portfolio allocation (%lo, %hi)\n",
    "    'starting_weights': (0.5, 0.5), \n",
    "    # transaction cost to buy/sell a stock\n",
    "    'trans_cost': 0.001}\n",
    "\n",
    "base_theta = {\n",
    "    'non_lin': 'relu',\n",
    "    'D': 8, \n",
    "    'gamma': 0.99,\n",
    "    'eps': 0.15,\n",
    "    'H': 100,\n",
    "    'tau': 0.001}"
   ]
  },
  {
   "cell_type": "code",
   "execution_count": 6,
   "metadata": {
    "collapsed": true
   },
   "outputs": [],
   "source": [
    "theta1 = base_theta.copy()\n",
    "theta1['d'] = 2\n",
    "theta1['reward'] = trd.sharpe_ratio_reward\n",
    "theta1['reward_name'] = 'sharpe_reward'\n",
    "\n",
    "theta2 = base_theta.copy()\n",
    "theta2['d'] = 7\n",
    "theta2['reward'] = trd.sharpe_ratio_reward\n",
    "theta2['reward_name'] = 'sharpe_reward'\n",
    "\n",
    "theta3 = base_theta.copy()\n",
    "theta3['d'] = 2\n",
    "theta3['reward'] = trd.create_penalized_returns_reward(0.5)\n",
    "theta3['reward_name'] = 'pen_return_l={:s}'.format(str(0.5).replace('.', '_'))\n",
    "\n",
    "theta4 = base_theta.copy()\n",
    "theta4['d'] = 7\n",
    "theta4['reward'] = trd.create_penalized_returns_reward(0.5)\n",
    "theta4['reward_name'] = 'pen_return_l={:s}'.format(str(0.5).replace('.', '_'))\n",
    "\n",
    "theta5 = base_theta.copy()\n",
    "theta5['d'] = 2\n",
    "theta5['reward'] = trd.create_penalized_returns_reward(0)\n",
    "theta5['reward_name'] = 'pen_return_l=0'\n",
    "\n",
    "theta6 = base_theta.copy()\n",
    "theta6['d'] = 7\n",
    "theta6['reward'] = trd.create_penalized_returns_reward(0)\n",
    "theta6['reward_name'] = 'pen_return_l=0'\n",
    "\n",
    "########################################################################\n",
    "\n",
    "theta7 = base_theta.copy()\n",
    "theta7['d'] = 30\n",
    "theta7['reward'] = trd.sharpe_ratio_reward\n",
    "theta7['reward_name'] = 'sharpe_reward'\n",
    "\n",
    "theta8 = base_theta.copy()\n",
    "theta8['d'] = 30\n",
    "theta8['reward'] = trd.create_penalized_returns_reward(0)\n",
    "theta8['reward_name'] = 'pen_return_l=0'\n",
    "\n",
    "theta9 = base_theta.copy()\n",
    "theta9['d'] = 30\n",
    "theta9['reward'] = trd.create_penalized_returns_reward(0.5)\n",
    "theta9['reward_name'] = 'pen_return_l={:s}'.format(str(0.5).replace('.', '_'))\n",
    "\n",
    "thetas = [theta7, theta8, theta9]"
   ]
  },
  {
   "cell_type": "code",
   "execution_count": 7,
   "metadata": {
    "collapsed": false
   },
   "outputs": [
    {
     "name": "stdout",
     "output_type": "stream",
     "text": [
      "model:      1 of      3\n",
      "iter:        0\tloss:  4.63201e+07     \n",
      "iter:     5000\tloss:  129743          \n",
      "iter:    10000\tloss:  55105.2         \n",
      "iter:    15000\tloss:  3.58872e+06     \n",
      "iter:    20000\tloss:  54110.3         \n",
      "iter:    25000\tloss:  300611          \n",
      "iter:    30000\tloss:  756707          \n",
      "iter:    35000\tloss:  972712          \n",
      "finished training\n",
      "model:      2 of      3\n",
      "iter:        0\tloss:  4.81138e+07     \n",
      "iter:     5000\tloss:  6.94808e+07     \n",
      "iter:    10000\tloss:  5.18206e+07     \n",
      "iter:    15000\tloss:  1.5242e+09      \n",
      "iter:    20000\tloss:  1.71979e+08     \n",
      "iter:    25000\tloss:  1.83849e+09     \n",
      "iter:    30000\tloss:  7.15871e+08     \n",
      "iter:    35000\tloss:  3.81763e+09     \n",
      "finished training\n",
      "model:      3 of      3\n",
      "iter:        0\tloss:  8.25645e+07     \n",
      "iter:     5000\tloss:  3.10603e+08     \n",
      "iter:    10000\tloss:  9.7139e+08      \n",
      "iter:    15000\tloss:  3.66333e+09     \n",
      "iter:    20000\tloss:  1.1832e+10      \n",
      "iter:    25000\tloss:  4.05351e+10     \n",
      "iter:    30000\tloss:  2.48199e+10     \n",
      "iter:    35000\tloss:  4.39584e+10     \n",
      "finished training\n"
     ]
    }
   ],
   "source": [
    "trd.train_mult_models(thetas, state_init, train_size=train_size, debug=True)"
   ]
  },
  {
   "cell_type": "code",
   "execution_count": 8,
   "metadata": {
    "collapsed": false
   },
   "outputs": [],
   "source": [
    "#pdb.pm()"
   ]
  }
 ],
 "metadata": {
  "anaconda-cloud": {},
  "kernelspec": {
   "display_name": "Python [default]",
   "language": "python",
   "name": "python3"
  },
  "language_info": {
   "codemirror_mode": {
    "name": "ipython",
    "version": 3
   },
   "file_extension": ".py",
   "mimetype": "text/x-python",
   "name": "python",
   "nbconvert_exporter": "python",
   "pygments_lexer": "ipython3",
   "version": "3.5.2"
  }
 },
 "nbformat": 4,
 "nbformat_minor": 1
}
