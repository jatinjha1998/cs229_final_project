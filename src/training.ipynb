{
 "cells": [
  {
   "cell_type": "code",
   "execution_count": 1,
   "metadata": {
    "collapsed": false
   },
   "outputs": [],
   "source": [
    "import os\n",
    "from os.path import join, splitext, basename, dirname, abspath\n",
    "import numpy as np\n",
    "import pandas as pd\n",
    "import matplotlib\n",
    "import matplotlib.pyplot as plt\n",
    "import sklearn as sk\n",
    "%matplotlib inline"
   ]
  },
  {
   "cell_type": "code",
   "execution_count": 4,
   "metadata": {
    "collapsed": false
   },
   "outputs": [],
   "source": [
    "import trading as trd\n",
    "from trading import State, train_model, MODEL_DIR"
   ]
  },
  {
   "cell_type": "code",
   "execution_count": null,
   "metadata": {
    "collapsed": true
   },
   "outputs": [],
   "source": [
    "import pdb #pdb.pm()"
   ]
  },
  {
   "cell_type": "code",
   "execution_count": 5,
   "metadata": {
    "collapsed": false
   },
   "outputs": [
    {
     "data": {
      "text/plain": [
       "<module 'trading' from 'C:\\\\Users\\\\hamza\\\\Documents\\\\school\\\\cs_229\\\\cs229_final_project\\\\src\\\\trading\\\\__init__.py'>"
      ]
     },
     "execution_count": 5,
     "metadata": {},
     "output_type": "execute_result"
    }
   ],
   "source": [
    "# relaod module after modifying it\n",
    "import importlib\n",
    "importlib.reload(trd)\n",
    "importlib.reload(trd.stock_history)\n",
    "importlib.reload(trd.portfolio)\n",
    "importlib.reload(trd.benchmarks)\n",
    "importlib.reload(trd.rl)\n",
    "importlib.reload(trd.nn)\n",
    "importlib.reload(trd)"
   ]
  },
  {
   "cell_type": "markdown",
   "metadata": {},
   "source": [
    "## The Problem"
   ]
  },
  {
   "cell_type": "code",
   "execution_count": null,
   "metadata": {
    "collapsed": true
   },
   "outputs": [],
   "source": [
    "# starting cash\n",
    "cash = 1e6\n",
    "# starting portfolio allocation (%lo, %hi)\n",
    "starting_weights = (0.5, 0.5)\n",
    "# transaction cost to buy/sell a stock\n",
    "trans_cost = 0.001\n",
    "# number of days input\n",
    "d = 7"
   ]
  },
  {
   "cell_type": "code",
   "execution_count": 7,
   "metadata": {
    "collapsed": false
   },
   "outputs": [],
   "source": [
    "# pentalty on volatility for reward method\n",
    "#λ = 0.5\n",
    "#reward = trd.create_penalized_returns_reward(λ)\n",
    "#reward_name = 'pen_reward_l={:s}'.format(str(λ).replace('.', '_'))\n",
    "reward = trd.sharpe_ratio_reward\n",
    "reward_name = 'sharpe_reward'"
   ]
  },
  {
   "cell_type": "markdown",
   "metadata": {},
   "source": [
    "## The Data"
   ]
  },
  {
   "cell_type": "code",
   "execution_count": 8,
   "metadata": {
    "collapsed": false
   },
   "outputs": [],
   "source": [
    "train_data, test_data = trd.get_stock_pairs(m)\n",
    "portfolio_states = [State(p, cash=cash, target_weights=starting_weights, trans_cost=trans_cost, d=d) for p in train_data]"
   ]
  },
  {
   "cell_type": "code",
   "execution_count": 12,
   "metadata": {
    "collapsed": true
   },
   "outputs": [],
   "source": [
    "# size of training set\n",
    "m_train = len(train_data)\n",
    "m_test = len(test_data)\n",
    "# total number of portfolios\n",
    "M = m_train + m_test"
   ]
  },
  {
   "cell_type": "markdown",
   "metadata": {},
   "source": [
    "## A Possible Solution"
   ]
  },
  {
   "cell_type": "code",
   "execution_count": 19,
   "metadata": {
    "collapsed": true
   },
   "outputs": [],
   "source": [
    "D = 6\n",
    "γ = 0.99\n",
    "ϵ = 0.15\n",
    "H = 100\n",
    "non_lin = 'relu'\n",
    "τ = 0.001"
   ]
  },
  {
   "cell_type": "code",
   "execution_count": 9,
   "metadata": {
    "collapsed": false
   },
   "outputs": [
    {
     "name": "stdout",
     "output_type": "stream",
     "text": [
      "iter:        0\tloss:  6.58368e+07     \n",
      "iter:     5000\tloss:  1.13338e+09     \n",
      "iter:    10000\tloss:  3.21967e+10     \n",
      "iter:    15000\tloss:  1.33903e+09     \n"
     ]
    }
   ],
   "source": [
    "(model, train_record) = train_model(portfolio_states, trd.actions, \n",
    "                                    D=D, gamma=γ, eps=ϵ, H=H,\n",
    "                                    non_lin='relu', reward=reward, tau=τ,\n",
    "                                    debug=True, debug_every=5000)"
   ]
  },
  {
   "cell_type": "markdown",
   "metadata": {},
   "source": [
    "## Save our Work"
   ]
  },
  {
   "cell_type": "code",
   "execution_count": 6,
   "metadata": {
    "collapsed": true
   },
   "outputs": [],
   "source": [
    "MODEL_DIR_NAME = '{:d}days_{:s}_{:d}h_{:s}_{:d}eps'.format(d, reward_name, H, non_lin, int(ϵ*100))\n",
    "try:\n",
    "    os.mkdir(MODEL_DIR_NAME)\n",
    "    os.mkdir(join(MODEL_DIR, trd.NOTHING_DIR))\n",
    "    os.mkdir(join(MODEL_DIR, trd.REBAL_DIR))\n",
    "    os.mkdir(join(MODEL_DIR, trd.MAX_DIR))\n",
    "    os.mkdir(join(MODEL_DIR, trd.MIN_DIR))\n",
    "\n",
    "except Exception:\n",
    "    pass"
   ]
  },
  {
   "cell_type": "code",
   "execution_count": 25,
   "metadata": {
    "collapsed": true
   },
   "outputs": [],
   "source": [
    "model.save(join(MODEL_DIR, 'model.h5'))"
   ]
  },
  {
   "cell_type": "markdown",
   "metadata": {},
   "source": [
    "## Save the Test Portfolios"
   ]
  },
  {
   "cell_type": "code",
   "execution_count": 27,
   "metadata": {
    "collapsed": false
   },
   "outputs": [],
   "source": [
    "with open(join(MODEL_DIR, 'test.csv'), 'w') as f:\n",
    "    for p in test_data:\n",
    "        f.write('{:s},{:s}\\n'.format(p.lo, p.hi))"
   ]
  }
 ],
 "metadata": {
  "anaconda-cloud": {},
  "kernelspec": {
   "display_name": "Python [default]",
   "language": "python",
   "name": "python3"
  },
  "language_info": {
   "codemirror_mode": {
    "name": "ipython",
    "version": 3
   },
   "file_extension": ".py",
   "mimetype": "text/x-python",
   "name": "python",
   "nbconvert_exporter": "python",
   "pygments_lexer": "ipython3",
   "version": "3.5.2"
  }
 },
 "nbformat": 4,
 "nbformat_minor": 1
}
