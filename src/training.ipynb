{
 "cells": [
  {
   "cell_type": "code",
   "execution_count": 1,
   "metadata": {
    "collapsed": false
   },
   "outputs": [],
   "source": [
    "import pdb\n",
    "\n",
    "import os\n",
    "from os.path import join, splitext, basename, dirname, abspath\n",
    "import numpy as np\n",
    "import pandas as pd\n",
    "import matplotlib\n",
    "import matplotlib.pyplot as plt\n",
    "import sklearn as sk\n",
    "%matplotlib inline"
   ]
  },
  {
   "cell_type": "code",
   "execution_count": 3,
   "metadata": {
    "collapsed": false
   },
   "outputs": [
    {
     "name": "stderr",
     "output_type": "stream",
     "text": [
      "Using Theano backend.\n"
     ]
    }
   ],
   "source": [
    "from keras import initializations"
   ]
  },
  {
   "cell_type": "code",
   "execution_count": 4,
   "metadata": {
    "collapsed": false
   },
   "outputs": [],
   "source": [
    "import trading as trd\n",
    "from trading import State, train_model"
   ]
  },
  {
   "cell_type": "code",
   "execution_count": 5,
   "metadata": {
    "collapsed": false
   },
   "outputs": [
    {
     "data": {
      "text/plain": [
       "<module 'trading' from 'C:\\\\Users\\\\hamza\\\\Documents\\\\school\\\\cs_229\\\\cs229_final_project\\\\src\\\\trading\\\\__init__.py'>"
      ]
     },
     "execution_count": 5,
     "metadata": {},
     "output_type": "execute_result"
    }
   ],
   "source": [
    "# relaod module after modifying it\n",
    "import importlib\n",
    "importlib.reload(trd)\n",
    "importlib.reload(trd.stock_history)\n",
    "importlib.reload(trd.portfolio)\n",
    "importlib.reload(trd.benchmarks)\n",
    "importlib.reload(trd.rl)\n",
    "importlib.reload(trd.nn)\n",
    "importlib.reload(trd)"
   ]
  },
  {
   "cell_type": "code",
   "execution_count": 6,
   "metadata": {
    "collapsed": true
   },
   "outputs": [],
   "source": [
    "MODEL_DATA_LOC = '../data/model'"
   ]
  },
  {
   "cell_type": "markdown",
   "metadata": {},
   "source": [
    "## The Problem"
   ]
  },
  {
   "cell_type": "code",
   "execution_count": 7,
   "metadata": {
    "collapsed": false
   },
   "outputs": [],
   "source": [
    "# transaction cost to buy/sell a stock\n",
    "trans_cost = 0.001\n",
    "# starting cash\n",
    "cash = 1e6\n",
    "# starting portfolio allocation (%lo, %hi)\n",
    "starting_weights = (0.5, 0.5)\n",
    "# number of days input\n",
    "d = 7\n",
    "# pentalty on volatility for reward method\n",
    "λ = 0.5\n",
    "#reward = trd.create_penalized_returns_reward(λ)\n",
    "#reward_name = 'pen_reward_l={}'.format(λ)\n",
    "reward = trd.sharpe_ratio_reward\n",
    "reward_name = 'sharpe_reward'"
   ]
  },
  {
   "cell_type": "markdown",
   "metadata": {},
   "source": [
    "## The Data"
   ]
  },
  {
   "cell_type": "code",
   "execution_count": 8,
   "metadata": {
    "collapsed": false
   },
   "outputs": [],
   "source": [
    "train_data, test_data = trd.get_stock_pairs(m)\n",
    "\n",
    "# size of training set\n",
    "m_train = len(train_data)\n",
    "m_test = len(test_data)\n",
    "# total number of portfolios\n",
    "M = m_train + n\n",
    "\n",
    "portfolio_states = [State(p, cash=cash, target_weights=starting_weights, trans_cost=trans_cost, d=d) for p in train_data]"
   ]
  },
  {
   "cell_type": "markdown",
   "metadata": {},
   "source": [
    "## A Possible Solution"
   ]
  },
  {
   "cell_type": "code",
   "execution_count": 9,
   "metadata": {
    "collapsed": false
   },
   "outputs": [
    {
     "name": "stdout",
     "output_type": "stream",
     "text": [
      "iter:        0\tloss:  6.58368e+07     \n",
      "iter:     5000\tloss:  1.13338e+09     \n",
      "iter:    10000\tloss:  3.21967e+10     \n",
      "iter:    15000\tloss:  1.33903e+09     \n"
     ]
    }
   ],
   "source": [
    "(model, train_record) = train_model(portfolio_states, trd.actions, \n",
    "                                    D=6, gamma=0.99, eps=0.15, H=100,\n",
    "                                    non_lin='relu', reward=reward, tau=0.001,\n",
    "                                    debug=True, debug_every=5000)"
   ]
  },
  {
   "cell_type": "code",
   "execution_count": 10,
   "metadata": {
    "collapsed": false
   },
   "outputs": [],
   "source": [
    "#pdb.pm()"
   ]
  },
  {
   "cell_type": "code",
   "execution_count": 11,
   "metadata": {
    "collapsed": false
   },
   "outputs": [
    {
     "ename": "Exception",
     "evalue": "",
     "output_type": "error",
     "traceback": [
      "\u001b[0;31m---------------------------------------------------------------------------\u001b[0m",
      "\u001b[0;31mException\u001b[0m                                 Traceback (most recent call last)",
      "\u001b[0;32m<ipython-input-11-fca2ab0ca76b>\u001b[0m in \u001b[0;36m<module>\u001b[0;34m()\u001b[0m\n\u001b[0;32m----> 1\u001b[0;31m \u001b[1;32mraise\u001b[0m \u001b[0mException\u001b[0m\u001b[1;33m\u001b[0m\u001b[0m\n\u001b[0m",
      "\u001b[0;31mException\u001b[0m: "
     ]
    }
   ],
   "source": [
    "raise Exception"
   ]
  },
  {
   "cell_type": "markdown",
   "metadata": {},
   "source": [
    "## Testing"
   ]
  },
  {
   "cell_type": "code",
   "execution_count": null,
   "metadata": {
    "collapsed": false
   },
   "outputs": [],
   "source": [
    "test_states = [State(p, cash=cash, target_weights=starting_weights, trans_cost=trans_cost) for p in test_data]\n",
    "available_test_states = test_states[:]"
   ]
  },
  {
   "cell_type": "code",
   "execution_count": null,
   "metadata": {
    "collapsed": false
   },
   "outputs": [],
   "source": [
    "while True:\n",
    "    if available_test_states == []:\n",
    "        break\n",
    "    \n",
    "    states = np.array([st.state for st in available_test_states])\n",
    " \n",
    "    qvalues = model.predict(states)\n",
    "    chosen_actions = np.argmax(qvalues, axis=1)\n",
    "    \n",
    "    for (st, a) in zip(available_test_states, trd.actions[chosen_actions]):\n",
    "        # execute the action\n",
    "        st.execute_trade(a)\n",
    "\n",
    "        try:\n",
    "            st.step()\n",
    "        except StopIteration:\n",
    "            available_test_states.remove(st)"
   ]
  },
  {
   "cell_type": "code",
   "execution_count": null,
   "metadata": {
    "collapsed": false
   },
   "outputs": [],
   "source": [
    "MODEL_DIR = '{:d}h_{:s}_{:d}eps_{:d}init'.format(H, non_lin, int(ϵ*100), int(cash))\n",
    "MODEL_DIR = join(MODEL_DATA_LOC, MODEL_DIR)\n",
    "try:\n",
    "    os.mkdir(MODEL_DIR)\n",
    "except Exception:\n",
    "    pass"
   ]
  },
  {
   "cell_type": "code",
   "execution_count": null,
   "metadata": {
    "collapsed": true
   },
   "outputs": [],
   "source": [
    "model.save(join(MODEL_DIR, 'model.h5'))"
   ]
  },
  {
   "cell_type": "code",
   "execution_count": null,
   "metadata": {
    "collapsed": false
   },
   "outputs": [],
   "source": [
    "for st in test_states:\n",
    "    file_name = '{:s}_{:s}.csv'.format(st.lo.symbol, st.hi.symbol)\n",
    "    st.portfolio.to_csv(join(MODEL_DIR, file_name))"
   ]
  },
  {
   "cell_type": "code",
   "execution_count": null,
   "metadata": {
    "collapsed": true
   },
   "outputs": [],
   "source": [
    "def cust_plt(ax, data, label='', **kwargs):\n",
    "    ax.plot_date(data.index, data, ls='solid', marker='', label=label, **kwargs)"
   ]
  },
  {
   "cell_type": "code",
   "execution_count": null,
   "metadata": {
    "collapsed": false,
    "scrolled": false
   },
   "outputs": [],
   "source": [
    "# number of test examples\n",
    "N = M - m\n",
    "\n",
    "matplotlib.rc('font', size=16)\n",
    "f = plt.figure(figsize=(25, 80))\n",
    "\n",
    "for i, st in enumerate(test_states):\n",
    "    lo_name = st.lo.symbol\n",
    "    hi_name = st.hi.symbol\n",
    "    lo = st.portfolio.cost_lo\n",
    "    hi = st.portfolio.cost_hi\n",
    "    q = st.portfolio.total\n",
    "    \n",
    "    ax1 = plt.subplot(N, 2, 2*i + 1)\n",
    "    cust_plt(ax1, lo, lo_name)\n",
    "    cust_plt(ax1, hi, hi_name)\n",
    "    ax1.legend(bbox_to_anchor=(0, 1), loc='upper left', ncol=1)\n",
    "    plt.xticks(rotation=40)\n",
    "    \n",
    "    do_nothing = trd.do_nothing_benchmark(lo, hi, \n",
    "                                          trans_cost=trans_cost, \n",
    "                                          initial_value=cash)\n",
    "    rebal = trd.rebalance_benchmark(lo, hi, rebalance_period=30, \n",
    "                                    initial_value=cash, \n",
    "                                    trans_cost=trans_cost)\n",
    "\n",
    "    ax2 = plt.subplot(N, 2, 2*i + 2)\n",
    "    lbl_str = '{:s} ({:.5f})'\n",
    "    cust_plt(ax2, do_nothing.total, lbl_str.format('do nothing', reward(do_nothing)))\n",
    "    cust_plt(ax2, rebal.total, lbl_str.format('rebalance 30', reward(rebal)))\n",
    "    cust_plt(ax2, st.portfolio.total, lbl_str.format('Q Learning', reward(st.portfolio)))\n",
    "    ax2.axhline(y=cash, color='black')\n",
    "    ax2.legend(bbox_to_anchor=(0, 1), loc='upper left', ncol=1)\n",
    "    ax2.set_ylim(bottom=0)\n",
    "    plt.xticks(rotation=40)"
   ]
  },
  {
   "cell_type": "code",
   "execution_count": null,
   "metadata": {
    "collapsed": true
   },
   "outputs": [],
   "source": [
    "f.savefig('nn_cmp.png')"
   ]
  }
 ],
 "metadata": {
  "anaconda-cloud": {},
  "kernelspec": {
   "display_name": "Python [default]",
   "language": "python",
   "name": "python3"
  },
  "language_info": {
   "codemirror_mode": {
    "name": "ipython",
    "version": 3
   },
   "file_extension": ".py",
   "mimetype": "text/x-python",
   "name": "python",
   "nbconvert_exporter": "python",
   "pygments_lexer": "ipython3",
   "version": "3.5.2"
  }
 },
 "nbformat": 4,
 "nbformat_minor": 1
}
